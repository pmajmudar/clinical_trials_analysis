{
 "cells": [
  {
   "cell_type": "code",
   "execution_count": 12,
   "id": "7ad16531",
   "metadata": {},
   "outputs": [],
   "source": [
    "from pyspark.sql import SparkSession\n",
    "spark = SparkSession.builder.getOrCreate()"
   ]
  },
  {
   "cell_type": "code",
   "execution_count": 2,
   "id": "c65a6845",
   "metadata": {},
   "outputs": [
    {
     "name": "stderr",
     "output_type": "stream",
     "text": [
      "/home/prash/.pyenv/versions/3.6.10/envs/clinical_trials/lib/python3.6/site-packages/pandas/compat/__init__.py:120: UserWarning: Could not import the lzma module. Your installed Python is incomplete. Attempting to use lzma compression will result in a RuntimeError.\n",
      "  warnings.warn(msg)\n"
     ]
    }
   ],
   "source": [
    "import pandas as pd\n",
    "pd.set_option(\"max_colwidth\", 300)\n"
   ]
  },
  {
   "cell_type": "code",
   "execution_count": 5,
   "id": "22955280",
   "metadata": {},
   "outputs": [],
   "source": [
    "df = spark.read.format('xml').options(rowTag='clinical_study',excludeAttribute=True, rowValidationXSDPath='public.xsd').load('/home/prash/data/clinical_trials/NCT0000xxxx/')"
   ]
  },
  {
   "cell_type": "code",
   "execution_count": 6,
   "id": "cafb4d0f",
   "metadata": {},
   "outputs": [
    {
     "data": {
      "text/plain": [
       "Row(_corrupt_record=None, acronym=None, arm_group=None, biospec_descr=None, biospec_retention=None, brief_summary=Row(textblock='\\n      The purpose of this study is to evaluate glutaminergic agents for cocaine abuse.\\r\\n    '), brief_title='Glutaminergic Agents for Cocaine Abuse - 5', clinical_results=None, completion_date='August 1999', condition=['Cocaine-Related Disorders'], condition_browse=Row(mesh_term=['Cocaine-Related Disorders']), detailed_description=None, disposition_first_posted=None, disposition_first_submitted=None, disposition_first_submitted_qc=None, eligibility=Row(criteria=Row(textblock='\\n        Please contact site for information.\\r\\n      '), gender='All', gender_based=None, gender_description=None, healthy_volunteers='No', maximum_age='45 Years', minimum_age='18 Years', sampling_method=None, study_pop=None), enrollment=0, has_expanded_access='No', id_info=Row(nct_alias=None, nct_id='NCT00000280', org_study_id='NIDA-09250-5', secondary_id=['P50DA009250', 'P50-09250-5']), intervention=[Row(arm_group_label=None, description=None, intervention_name='Nimodipine', intervention_type='Drug', other_name=None)], intervention_browse=Row(mesh_term=['Nimodipine']), keyword=['cocaine'], last_known_status=None, last_update_posted='April 25, 2017', last_update_submitted='April 21, 2017', last_update_submitted_qc='April 21, 2017', link=None, location=[Row(contact=None, contact_backup=None, facility=Row(address=Row(city='New Haven', country='United States', state='Connecticut', zip='06519'), name='VA Connecticut Healthcare System'), investigator=None, status=None)], location_countries=Row(country=['United States']), number_of_arms=None, number_of_groups=None, official_title='Glutaminergic Agents for Cocaine Abuse', other_outcome=None, overall_contact=None, overall_contact_backup=None, overall_official=[Row(affiliation='VA Connecticut Healthcare System', last_name='Thomas R Kosten, M.D.', role='Principal Investigator')], overall_status='Completed', oversight_info=None, patient_data=None, pending_results=None, phase='Phase 1', primary_completion_date='August 1999', primary_outcome=[Row(description=None, measure='Cocaine effects', time_frame=None)], provided_document_section=None, reference=None, removed_countries=None, required_header=Row(download_date='ClinicalTrials.gov processed this data on May 13, 2021', link_text='Link to the current ClinicalTrials.gov record.', url='https://clinicaltrials.gov/show/NCT00000280'), responsible_party=Row(investigator_affiliation=None, investigator_full_name=None, investigator_title=None, name_title=None, organization=None, responsible_party_type='Sponsor'), results_first_posted=None, results_first_submitted=None, results_first_submitted_qc=None, results_reference=None, secondary_outcome=None, source='Yale University', sponsors=Row(collaborator=[Row(agency='National Institute on Drug Abuse (NIDA)', agency_class='NIH'), Row(agency='VA Connecticut Healthcare System', agency_class='U.S. Fed')], lead_sponsor=Row(agency='Yale University', agency_class='Other')), start_date='September 1994', study_design_info=Row(allocation=None, intervention_model=None, intervention_model_description=None, masking=None, masking_description=None, observational_model=None, primary_purpose='Treatment', time_perspective=None), study_docs=None, study_first_posted='September 21, 1999', study_first_submitted='September 20, 1999', study_first_submitted_qc='September 20, 1999', study_type='Interventional', target_duration=None, verification_date='December 2002', why_stopped=None)"
      ]
     },
     "execution_count": 6,
     "metadata": {},
     "output_type": "execute_result"
    }
   ],
   "source": [
    "df.head()"
   ]
  },
  {
   "cell_type": "code",
   "execution_count": 7,
   "id": "924072df",
   "metadata": {},
   "outputs": [
    {
     "data": {
      "text/plain": [
       "['_corrupt_record',\n",
       " 'acronym',\n",
       " 'arm_group',\n",
       " 'biospec_descr',\n",
       " 'biospec_retention',\n",
       " 'brief_summary',\n",
       " 'brief_title',\n",
       " 'clinical_results',\n",
       " 'completion_date',\n",
       " 'condition',\n",
       " 'condition_browse',\n",
       " 'detailed_description',\n",
       " 'disposition_first_posted',\n",
       " 'disposition_first_submitted',\n",
       " 'disposition_first_submitted_qc',\n",
       " 'eligibility',\n",
       " 'enrollment',\n",
       " 'has_expanded_access',\n",
       " 'id_info',\n",
       " 'intervention',\n",
       " 'intervention_browse',\n",
       " 'keyword',\n",
       " 'last_known_status',\n",
       " 'last_update_posted',\n",
       " 'last_update_submitted',\n",
       " 'last_update_submitted_qc',\n",
       " 'link',\n",
       " 'location',\n",
       " 'location_countries',\n",
       " 'number_of_arms',\n",
       " 'number_of_groups',\n",
       " 'official_title',\n",
       " 'other_outcome',\n",
       " 'overall_contact',\n",
       " 'overall_contact_backup',\n",
       " 'overall_official',\n",
       " 'overall_status',\n",
       " 'oversight_info',\n",
       " 'patient_data',\n",
       " 'pending_results',\n",
       " 'phase',\n",
       " 'primary_completion_date',\n",
       " 'primary_outcome',\n",
       " 'provided_document_section',\n",
       " 'reference',\n",
       " 'removed_countries',\n",
       " 'required_header',\n",
       " 'responsible_party',\n",
       " 'results_first_posted',\n",
       " 'results_first_submitted',\n",
       " 'results_first_submitted_qc',\n",
       " 'results_reference',\n",
       " 'secondary_outcome',\n",
       " 'source',\n",
       " 'sponsors',\n",
       " 'start_date',\n",
       " 'study_design_info',\n",
       " 'study_docs',\n",
       " 'study_first_posted',\n",
       " 'study_first_submitted',\n",
       " 'study_first_submitted_qc',\n",
       " 'study_type',\n",
       " 'target_duration',\n",
       " 'verification_date',\n",
       " 'why_stopped']"
      ]
     },
     "execution_count": 7,
     "metadata": {},
     "output_type": "execute_result"
    }
   ],
   "source": [
    "df.columns"
   ]
  },
  {
   "cell_type": "code",
   "execution_count": 13,
   "id": "afa8bba0",
   "metadata": {},
   "outputs": [],
   "source": [
    "dfp = df.select(['condition','sponsors.lead_sponsor', 'phase', 'location.investigator', 'responsible_party']).toPandas()"
   ]
  },
  {
   "cell_type": "code",
   "execution_count": 14,
   "id": "2df358cf",
   "metadata": {},
   "outputs": [
    {
     "data": {
      "text/html": [
       "<div>\n",
       "<style scoped>\n",
       "    .dataframe tbody tr th:only-of-type {\n",
       "        vertical-align: middle;\n",
       "    }\n",
       "\n",
       "    .dataframe tbody tr th {\n",
       "        vertical-align: top;\n",
       "    }\n",
       "\n",
       "    .dataframe thead th {\n",
       "        text-align: right;\n",
       "    }\n",
       "</style>\n",
       "<table border=\"1\" class=\"dataframe\">\n",
       "  <thead>\n",
       "    <tr style=\"text-align: right;\">\n",
       "      <th></th>\n",
       "      <th>condition</th>\n",
       "      <th>lead_sponsor</th>\n",
       "      <th>phase</th>\n",
       "      <th>investigator</th>\n",
       "      <th>responsible_party</th>\n",
       "    </tr>\n",
       "  </thead>\n",
       "  <tbody>\n",
       "    <tr>\n",
       "      <th>0</th>\n",
       "      <td>[Cocaine-Related Disorders]</td>\n",
       "      <td>(Yale University, Other)</td>\n",
       "      <td>Phase 1</td>\n",
       "      <td>[None]</td>\n",
       "      <td>(None, None, None, None, None, Sponsor)</td>\n",
       "    </tr>\n",
       "    <tr>\n",
       "      <th>1</th>\n",
       "      <td>[Sarcoma]</td>\n",
       "      <td>(M.D. Anderson Cancer Center, Other)</td>\n",
       "      <td>Phase 1</td>\n",
       "      <td>[None]</td>\n",
       "      <td>(None, None, None, None, None, Sponsor)</td>\n",
       "    </tr>\n",
       "    <tr>\n",
       "      <th>2</th>\n",
       "      <td>[Cushing's Syndrome]</td>\n",
       "      <td>(National Center for Research Resources (NCRR), NIH)</td>\n",
       "      <td>None</td>\n",
       "      <td>[None]</td>\n",
       "      <td>None</td>\n",
       "    </tr>\n",
       "    <tr>\n",
       "      <th>3</th>\n",
       "      <td>[Lymphoma, Sarcoma]</td>\n",
       "      <td>(Roswell Park Cancer Institute, Other)</td>\n",
       "      <td>Phase 1</td>\n",
       "      <td>[None]</td>\n",
       "      <td>None</td>\n",
       "    </tr>\n",
       "    <tr>\n",
       "      <th>4</th>\n",
       "      <td>[Leukemia, Myelodysplastic Syndromes]</td>\n",
       "      <td>(Memorial Sloan Kettering Cancer Center, Other)</td>\n",
       "      <td>Phase 1</td>\n",
       "      <td>[None]</td>\n",
       "      <td>None</td>\n",
       "    </tr>\n",
       "    <tr>\n",
       "      <th>...</th>\n",
       "      <td>...</td>\n",
       "      <td>...</td>\n",
       "      <td>...</td>\n",
       "      <td>...</td>\n",
       "      <td>...</td>\n",
       "    </tr>\n",
       "    <tr>\n",
       "      <th>5749</th>\n",
       "      <td>[X-Linked Agammaglobulinemia, X-Linked Hyper IgM Syndrome, Wiskott-Aldrich Syndrome, Leukocyte Adhesion Deficiency Syndrome]</td>\n",
       "      <td>(Eunice Kennedy Shriver National Institute of Child Health and Human Development (NICHD), NIH)</td>\n",
       "      <td>None</td>\n",
       "      <td>[None]</td>\n",
       "      <td>None</td>\n",
       "    </tr>\n",
       "    <tr>\n",
       "      <th>5750</th>\n",
       "      <td>[Lipodystrophy]</td>\n",
       "      <td>(National Center for Research Resources (NCRR), NIH)</td>\n",
       "      <td>None</td>\n",
       "      <td>[None]</td>\n",
       "      <td>None</td>\n",
       "    </tr>\n",
       "    <tr>\n",
       "      <th>5751</th>\n",
       "      <td>[Cystic Fibrosis]</td>\n",
       "      <td>(Children's Hospital Medical Center, Cincinnati, Other)</td>\n",
       "      <td>N/A</td>\n",
       "      <td>[None, None, None]</td>\n",
       "      <td>None</td>\n",
       "    </tr>\n",
       "    <tr>\n",
       "      <th>5752</th>\n",
       "      <td>[Leukemia]</td>\n",
       "      <td>(M.D. Anderson Cancer Center, Other)</td>\n",
       "      <td>Phase 2</td>\n",
       "      <td>None</td>\n",
       "      <td>(None, None, None, None, None, Sponsor)</td>\n",
       "    </tr>\n",
       "    <tr>\n",
       "      <th>5753</th>\n",
       "      <td>[Alcoholism]</td>\n",
       "      <td>(Bankole Johnson, Other)</td>\n",
       "      <td>Phase 2</td>\n",
       "      <td>[[(Bankole Johnson, DSc, MD, PhD, Principal Investigator), (Nassima Ait-Daoud Tiouririne, MD, Sub-Investigator)], [(Bankole Johnson, DSc, MD, PhD, Principal Investigator), (Nassima Ait-Daoud Tiouririne, MD, Sub-Investigator)]]</td>\n",
       "      <td>(University of Virginia, Bankole Johnson, Chair of Psychiatry and Neurobehavioral Sciences, None, None, Sponsor-Investigator)</td>\n",
       "    </tr>\n",
       "  </tbody>\n",
       "</table>\n",
       "<p>5754 rows × 5 columns</p>\n",
       "</div>"
      ],
      "text/plain": [
       "                                                                                                                         condition  \\\n",
       "0                                                                                                      [Cocaine-Related Disorders]   \n",
       "1                                                                                                                        [Sarcoma]   \n",
       "2                                                                                                             [Cushing's Syndrome]   \n",
       "3                                                                                                              [Lymphoma, Sarcoma]   \n",
       "4                                                                                            [Leukemia, Myelodysplastic Syndromes]   \n",
       "...                                                                                                                            ...   \n",
       "5749  [X-Linked Agammaglobulinemia, X-Linked Hyper IgM Syndrome, Wiskott-Aldrich Syndrome, Leukocyte Adhesion Deficiency Syndrome]   \n",
       "5750                                                                                                               [Lipodystrophy]   \n",
       "5751                                                                                                             [Cystic Fibrosis]   \n",
       "5752                                                                                                                    [Leukemia]   \n",
       "5753                                                                                                                  [Alcoholism]   \n",
       "\n",
       "                                                                                        lead_sponsor  \\\n",
       "0                                                                           (Yale University, Other)   \n",
       "1                                                               (M.D. Anderson Cancer Center, Other)   \n",
       "2                                               (National Center for Research Resources (NCRR), NIH)   \n",
       "3                                                             (Roswell Park Cancer Institute, Other)   \n",
       "4                                                    (Memorial Sloan Kettering Cancer Center, Other)   \n",
       "...                                                                                              ...   \n",
       "5749  (Eunice Kennedy Shriver National Institute of Child Health and Human Development (NICHD), NIH)   \n",
       "5750                                            (National Center for Research Resources (NCRR), NIH)   \n",
       "5751                                         (Children's Hospital Medical Center, Cincinnati, Other)   \n",
       "5752                                                            (M.D. Anderson Cancer Center, Other)   \n",
       "5753                                                                        (Bankole Johnson, Other)   \n",
       "\n",
       "        phase  \\\n",
       "0     Phase 1   \n",
       "1     Phase 1   \n",
       "2        None   \n",
       "3     Phase 1   \n",
       "4     Phase 1   \n",
       "...       ...   \n",
       "5749     None   \n",
       "5750     None   \n",
       "5751      N/A   \n",
       "5752  Phase 2   \n",
       "5753  Phase 2   \n",
       "\n",
       "                                                                                                                                                                                                                            investigator  \\\n",
       "0                                                                                                                                                                                                                                 [None]   \n",
       "1                                                                                                                                                                                                                                 [None]   \n",
       "2                                                                                                                                                                                                                                 [None]   \n",
       "3                                                                                                                                                                                                                                 [None]   \n",
       "4                                                                                                                                                                                                                                 [None]   \n",
       "...                                                                                                                                                                                                                                  ...   \n",
       "5749                                                                                                                                                                                                                              [None]   \n",
       "5750                                                                                                                                                                                                                              [None]   \n",
       "5751                                                                                                                                                                                                                  [None, None, None]   \n",
       "5752                                                                                                                                                                                                                                None   \n",
       "5753  [[(Bankole Johnson, DSc, MD, PhD, Principal Investigator), (Nassima Ait-Daoud Tiouririne, MD, Sub-Investigator)], [(Bankole Johnson, DSc, MD, PhD, Principal Investigator), (Nassima Ait-Daoud Tiouririne, MD, Sub-Investigator)]]   \n",
       "\n",
       "                                                                                                                  responsible_party  \n",
       "0                                                                                           (None, None, None, None, None, Sponsor)  \n",
       "1                                                                                           (None, None, None, None, None, Sponsor)  \n",
       "2                                                                                                                              None  \n",
       "3                                                                                                                              None  \n",
       "4                                                                                                                              None  \n",
       "...                                                                                                                             ...  \n",
       "5749                                                                                                                           None  \n",
       "5750                                                                                                                           None  \n",
       "5751                                                                                                                           None  \n",
       "5752                                                                                        (None, None, None, None, None, Sponsor)  \n",
       "5753  (University of Virginia, Bankole Johnson, Chair of Psychiatry and Neurobehavioral Sciences, None, None, Sponsor-Investigator)  \n",
       "\n",
       "[5754 rows x 5 columns]"
      ]
     },
     "execution_count": 14,
     "metadata": {},
     "output_type": "execute_result"
    }
   ],
   "source": [
    "dfp"
   ]
  },
  {
   "cell_type": "code",
   "execution_count": 29,
   "id": "79c51aa7",
   "metadata": {},
   "outputs": [
    {
     "data": {
      "text/plain": [
       "'NIH'"
      ]
     },
     "execution_count": 29,
     "metadata": {},
     "output_type": "execute_result"
    }
   ],
   "source": [
    "dfp['lead_sponsor'].values[0][1]"
   ]
  },
  {
   "cell_type": "code",
   "execution_count": 10,
   "id": "0dc44a64",
   "metadata": {},
   "outputs": [
    {
     "data": {
      "text/plain": [
       "Phase 2            1712\n",
       "Phase 1             974\n",
       "Phase 3             968\n",
       "N/A                 569\n",
       "Phase 1/Phase 2     183\n",
       "Phase 4              86\n",
       "Phase 2/Phase 3      21\n",
       "Name: phase, dtype: int64"
      ]
     },
     "execution_count": 10,
     "metadata": {},
     "output_type": "execute_result"
    }
   ],
   "source": [
    "dfp.phase.value_counts()"
   ]
  },
  {
   "cell_type": "code",
   "execution_count": 11,
   "id": "5d512eeb",
   "metadata": {},
   "outputs": [
    {
     "ename": "TypeError",
     "evalue": "unhashable type: 'list'",
     "output_type": "error",
     "traceback": [
      "\u001b[0;31m---------------------------------------------------------------------------\u001b[0m",
      "\u001b[0;31mTypeError\u001b[0m                                 Traceback (most recent call last)",
      "\u001b[0;32mpandas/_libs/hashtable_class_helper.pxi\u001b[0m in \u001b[0;36mpandas._libs.hashtable.PyObjectHashTable.map_locations\u001b[0;34m()\u001b[0m\n",
      "\u001b[0;31mTypeError\u001b[0m: unhashable type: 'list'"
     ]
    },
    {
     "name": "stderr",
     "output_type": "stream",
     "text": [
      "Exception ignored in: 'pandas._libs.index.IndexEngine._call_map_locations'\n",
      "Traceback (most recent call last):\n",
      "  File \"pandas/_libs/hashtable_class_helper.pxi\", line 1709, in pandas._libs.hashtable.PyObjectHashTable.map_locations\n",
      "TypeError: unhashable type: 'list'\n"
     ]
    },
    {
     "data": {
      "text/plain": [
       "[HIV Infections]                                                                                                                                              626\n",
       "[Breast Cancer]                                                                                                                                               177\n",
       "[Lymphoma]                                                                                                                                                    146\n",
       "[Lung Cancer]                                                                                                                                                 137\n",
       "[Unspecified Adult Solid Tumor, Protocol Specific]                                                                                                            126\n",
       "                                                                                                                                                             ... \n",
       "[Healthy, Obesity]                                                                                                                                              1\n",
       "[Brain and Central Nervous System Tumors, Melanoma (Skin), Metastatic Cancer]                                                                                   1\n",
       "[Healthy, Mood Disorder]                                                                                                                                        1\n",
       "[Breast Cancer, Perioperative/Postoperative Complications]                                                                                                      1\n",
       "[Adrenocortical Carcinoma, Brain and Central Nervous System Tumors, Head and Neck Cancer, Liver Cancer, Malignant Mesothelioma, Pheochromocytoma, Sarcoma]      1\n",
       "Name: condition, Length: 2118, dtype: int64"
      ]
     },
     "execution_count": 11,
     "metadata": {},
     "output_type": "execute_result"
    }
   ],
   "source": [
    "dfp.condition.value_counts()"
   ]
  }
 ],
 "metadata": {
  "kernelspec": {
   "display_name": "Python 3",
   "language": "python",
   "name": "python3"
  },
  "language_info": {
   "codemirror_mode": {
    "name": "ipython",
    "version": 3
   },
   "file_extension": ".py",
   "mimetype": "text/x-python",
   "name": "python",
   "nbconvert_exporter": "python",
   "pygments_lexer": "ipython3",
   "version": "3.6.10"
  }
 },
 "nbformat": 4,
 "nbformat_minor": 5
}
